{
  "nbformat": 4,
  "nbformat_minor": 0,
  "metadata": {
    "colab": {
      "name": "かんたん後払い.ipynb",
      "provenance": [],
      "collapsed_sections": [],
      "include_colab_link": true
    },
    "kernelspec": {
      "name": "python3",
      "display_name": "Python 3"
    }
  },
  "cells": [
    {
      "cell_type": "markdown",
      "metadata": {
        "id": "view-in-github",
        "colab_type": "text"
      },
      "source": [
        "<a href=\"https://colab.research.google.com/github/Shuichiro-T/gijutsushoten_kantanatobarai_csv/blob/master/to_csv.ipynb\" target=\"_parent\"><img src=\"https://colab.research.google.com/assets/colab-badge.svg\" alt=\"Open In Colab\"/></a>"
      ]
    },
    {
      "cell_type": "markdown",
      "metadata": {
        "id": "124Dk8WQOYv9",
        "colab_type": "text"
      },
      "source": [
        "ライブラリのインポート"
      ]
    },
    {
      "cell_type": "code",
      "metadata": {
        "id": "D6NtDyqtNmu1",
        "colab_type": "code",
        "colab": {}
      },
      "source": [
        "import pandas "
      ],
      "execution_count": 0,
      "outputs": []
    },
    {
      "cell_type": "markdown",
      "metadata": {
        "id": "aKcJzmVLOEA5",
        "colab_type": "text"
      },
      "source": [
        "Google Driveをマウントする。\n",
        "実行するとリンクが表示されるので、リンク先をクリックしてGoogle Driveへのアクセスを許可する。\n",
        "出てくるコードをコピーしてプロンプトへ入力する。"
      ]
    },
    {
      "cell_type": "code",
      "metadata": {
        "id": "1lC2rWRKOyeU",
        "colab_type": "code",
        "colab": {}
      },
      "source": [
        "from google.colab import drive\n",
        "drive.mount('/content/drive')"
      ],
      "execution_count": 0,
      "outputs": []
    },
    {
      "cell_type": "markdown",
      "metadata": {
        "id": "itbcewIgPVfb",
        "colab_type": "text"
      },
      "source": [
        "Pandasで読込\n",
        "\n",
        "Google Driveのトップフォルダに\"transfer-34050001.json\"というファイル名で保存した場合\n",
        "\n",
        "\n"
      ]
    },
    {
      "cell_type": "code",
      "metadata": {
        "id": "OIR3_Cz-PgYZ",
        "colab_type": "code",
        "colab": {}
      },
      "source": [
        "dataframe = pandas.read_json(\"/content/drive/My Drive/transfer-34050001.json\")\n",
        "list = dataframe['handshakes']['nodes']\n"
      ],
      "execution_count": 0,
      "outputs": []
    },
    {
      "cell_type": "markdown",
      "metadata": {
        "id": "8Qhhy3lbUCC8",
        "colab_type": "text"
      },
      "source": [
        "CSV形式で保存する\n",
        "\n",
        "Google Driveのトップフォルダに\"transfer-34050001.csv\"ファイルで保存する場合"
      ]
    },
    {
      "cell_type": "code",
      "metadata": {
        "id": "6fQ95amgUEZf",
        "colab_type": "code",
        "colab": {}
      },
      "source": [
        "dataframe = pandas.DataFrame(dataframe)\n",
        "dataframe.to_csv(\"/content/drive/My Drive/transfer-34050001.csv\")"
      ],
      "execution_count": 0,
      "outputs": []
    }
  ]
}